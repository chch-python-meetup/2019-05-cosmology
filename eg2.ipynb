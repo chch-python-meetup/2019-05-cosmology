{
 "cells": [
  {
   "cell_type": "code",
   "execution_count": 3,
   "metadata": {},
   "outputs": [],
   "source": [
    "from math import sqrt\n",
    "import numpy as np\n",
    "from matplotlib import pylab as plt"
   ]
  },
  {
   "cell_type": "code",
   "execution_count": 4,
   "metadata": {},
   "outputs": [],
   "source": [
    "\n",
    "def bisection(f,a,b,N):\n",
    "    '''\n",
    "    https://www.math.ubc.ca/~pwalls/math-python/roots-optimization/bisection/\n",
    "    Approximate solution of f(x)=0 on interval [a,b] by the bisection method.\n",
    "\n",
    "    Parameters\n",
    "    ----------\n",
    "    f : function\n",
    "        The function for which we are trying to approximate a solution f(x)=0.\n",
    "    a,b : numbers\n",
    "        The interval in which to search for a solution. The function returns\n",
    "        None if f(a)*f(b) >= 0 since a solution is not guaranteed.\n",
    "    N : (positive) integer\n",
    "        The number of iterations to implement.\n",
    "\n",
    "    Returns\n",
    "    -------\n",
    "    x_N : number\n",
    "        The midpoint of the Nth interval computed by the bisection method. The\n",
    "        initial interval [a_0,b_0] is given by [a,b]. If f(m_n) == 0 for some\n",
    "        midpoint m_n = (a_n + b_n)/2, then the function returns this solution.\n",
    "        If all signs of values f(a_n), f(b_n) and f(m_n) are the same at any\n",
    "        iteration, the bisection method fails and return None.\n",
    "\n",
    "    Examples\n",
    "    --------\n",
    "    >>> f = lambda x: x**2 - x - 1\n",
    "    >>> bisection(f,1,2,25)\n",
    "    1.618033990263939\n",
    "    >>> f = lambda x: (2*x - 1)*(x - 3)\n",
    "    >>> bisection(f,0,1,10)\n",
    "    0.5\n",
    "    '''\n",
    "    if f(a)*f(b) >= 0:\n",
    "        print(\"Bisection method fails.\")\n",
    "        return None\n",
    "    a_n = a\n",
    "    b_n = b\n",
    "    for n in range(1,N+1):\n",
    "        m_n = (a_n + b_n)/2\n",
    "        f_m_n = f(m_n)\n",
    "        if f(a_n)*f_m_n < 0:\n",
    "            a_n = a_n\n",
    "            b_n = m_n\n",
    "        elif f(b_n)*f_m_n < 0:\n",
    "            a_n = m_n\n",
    "            b_n = b_n\n",
    "        elif f_m_n == 0:\n",
    "            print(\"Found exact solution.\")\n",
    "            return m_n\n",
    "        else:\n",
    "            print(\"Bisection method fails.\")\n",
    "            return None\n",
    "    return (a_n + b_n)/2\n",
    "\n",
    "# Finds value of y for a given x using step size h \n",
    "# and initial value y0 at x0. \n",
    "def rungeKutta(x0, y0, x, h, arg, dydx):\n",
    "    \"\"\"\n",
    "    https://www.geeksforgeeks.org/runge-kutta-4th-order-method-solve-differential-equation/\n",
    "    \"\"\"\n",
    "    # Count number of iterations using step size or \n",
    "    # step height h \n",
    "    n = (int)((x - x0)/h)  \n",
    "    # Iterate for number of iterations \n",
    "    y = y0 \n",
    "    for i in range(1, n + 1): \n",
    "        \"Apply Runge Kutta Formulas to find next value of y\"\n",
    "        k1 = h * dydx(x0, y, arg) \n",
    "        k2 = h * dydx(x0 + 0.5 * h, y + 0.5 * k1, arg) \n",
    "        k3 = h * dydx(x0 + 0.5 * h, y + 0.5 * k2, arg) \n",
    "        k4 = h * dydx(x0 + h, y + k3, arg) \n",
    "  \n",
    "        # Update next value of y \n",
    "        y = y + (1.0 / 6.0)*(k1 + 2 * k2 + 2 * k3 + k4) \n",
    "  \n",
    "        # Update next value of x \n",
    "        x0 = x0 + h \n",
    "    return y "
   ]
  },
  {
   "cell_type": "code",
   "execution_count": 5,
   "metadata": {},
   "outputs": [],
   "source": [
    "def dadt(t, a,  a0half, OmegaR0=1e-5, OmegaM0=-1e-5+0.3, OmegaK0=0., OmegaLambda0=0.7):\n",
    "    \"\"\"\n",
    "     https://en.wikipedia.org/wiki/Friedmann_equations\n",
    "    \"\"\"\n",
    "    if OmegaK0 <0. and a> a0half:\n",
    "        return -sqrt(OmegaR0/(a*a)+OmegaM0/a+OmegaK0+OmegaLambda0*a*a)\n",
    "    else:\n",
    "        return sqrt(OmegaR0/(a*a)+OmegaM0/a+OmegaK0+OmegaLambda0*a*a)\n",
    "    \n",
    "def aMid(a, OmegaR0=1e-5,  OmegaM0=-1e-5+1.1, OmegaK0=-0.1, OmegaLambda0=0.):\n",
    "    \"\"\"\n",
    "    Exercise: \n",
    "        For OmegaK0<0 use this to find the maximum value a(t=tmax) can take. Use negative \n",
    "        square root in the integrand for t>tmax to.\n",
    "    \"\"\"\n",
    "    return OmegaR0/(a*a)+OmegaM0/a+OmegaK0+OmegaLambda0*a*a\n",
    "\n"
   ]
  },
  {
   "cell_type": "code",
   "execution_count": 6,
   "metadata": {},
   "outputs": [
    {
     "name": "stdout",
     "output_type": "stream",
     "text": [
      "Found exact solution.\n",
      "5.499954545492112\n",
      "0.0\n"
     ]
    }
   ],
   "source": [
    "#x0 = 0\n",
    "#y = 1\n",
    "#x = 2\n",
    "#h = 0.2\n",
    "#print('The value of y at x is:', rungeKutta(x0, y, x, h))\n",
    "a0Mid = bisection(aMid, 1e-5,20.,1000)/2.\n",
    "print(a0Mid)\n",
    "print(aMid(a0Mid*2.))"
   ]
  },
  {
   "cell_type": "code",
   "execution_count": 7,
   "metadata": {},
   "outputs": [],
   "source": [
    "t_init=1e-4#1e-7\n",
    "OmegaR0=1e-5\n",
    "a_init=sqrt(2.*sqrt(OmegaR0)*t_init)\n",
    "h=t_init/2.\n",
    "t_next=t_init*2.\n"
   ]
  },
  {
   "cell_type": "code",
   "execution_count": 9,
   "metadata": {},
   "outputs": [
    {
     "data": {
      "text/plain": [
       "0.0007952707287670507"
      ]
     },
     "execution_count": 9,
     "metadata": {},
     "output_type": "execute_result"
    }
   ],
   "source": [
    "a_init"
   ]
  },
  {
   "cell_type": "code",
   "execution_count": 10,
   "metadata": {},
   "outputs": [
    {
     "data": {
      "text/plain": [
       "0.002233795950365733"
      ]
     },
     "execution_count": 10,
     "metadata": {},
     "output_type": "execute_result"
    }
   ],
   "source": [
    "rungeKutta(t_init, a_init, t_next, h, a0Mid, dadt)"
   ]
  },
  {
   "cell_type": "code",
   "execution_count": 11,
   "metadata": {},
   "outputs": [],
   "source": [
    "t_vals = np.linspace(t_init,1.1,10000)"
   ]
  },
  {
   "cell_type": "code",
   "execution_count": 12,
   "metadata": {},
   "outputs": [],
   "source": [
    "a_vals = []"
   ]
  },
  {
   "cell_type": "code",
   "execution_count": 13,
   "metadata": {},
   "outputs": [
    {
     "name": "stdout",
     "output_type": "stream",
     "text": [
      "done\n"
     ]
    }
   ],
   "source": [
    "for t in t_vals:\n",
    "    a_vals.append(rungeKutta(t_init, a_init, t, h, a0Mid, dadt))\n",
    "    a_init = a_vals[-1]\n",
    "    t_init = t\n",
    "print(\"done\")"
   ]
  },
  {
   "cell_type": "code",
   "execution_count": 14,
   "metadata": {},
   "outputs": [
    {
     "data": {
      "text/plain": [
       "[<matplotlib.lines.Line2D at 0x7f1f880a7be0>]"
      ]
     },
     "execution_count": 14,
     "metadata": {},
     "output_type": "execute_result"
    },
    {
     "data": {
      "image/png": "[encoded data removed]",
      "text/plain": [
       "<Figure size 432x288 with 1 Axes>"
      ]
     },
     "metadata": {
      "needs_background": "light"
     },
     "output_type": "display_data"
    }
   ],
   "source": [
    "fig, ax = plt.subplots()\n",
    "ax.plot(t_vals, a_vals)\n",
    "#ax.set_yscale('log')\n",
    "#ax.set_xscale('log')"
   ]
  },
  {
   "cell_type": "code",
   "execution_count": null,
   "metadata": {},
   "outputs": [],
   "source": []
  },
  {
   "cell_type": "code",
   "execution_count": null,
   "metadata": {},
   "outputs": [],
   "source": []
  },
  {
   "cell_type": "code",
   "execution_count": null,
   "metadata": {},
   "outputs": [],
   "source": []
  }
 ],
 "metadata": {
  "kernelspec": {
   "display_name": "Python 3",
   "language": "python",
   "name": "python3"
  },
  "language_info": {
   "codemirror_mode": {
    "name": "ipython",
    "version": 3
   },
   "file_extension": ".py",
   "mimetype": "text/x-python",
   "name": "python",
   "nbconvert_exporter": "python",
   "pygments_lexer": "ipython3",
   "version": "3.6.7"
  }
 },
 "nbformat": 4,
 "nbformat_minor": 2
}
