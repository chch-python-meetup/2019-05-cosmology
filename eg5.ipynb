{
 "cells": [
  {
   "cell_type": "code",
   "execution_count": 11,
   "metadata": {},
   "outputs": [],
   "source": [
    "\"\"\"\n",
    "Here we test the (terrible) theory that pi is a rational number. pi = a/b. We wish to find the best parameters \n",
    "in our model i.e 'a' and 'b' that produces the closest match between our model and some experimentally measured \n",
    "value of pi.\n",
    "\"\"\"\n",
    "import numpy as np\n",
    "import emcee"
   ]
  },
  {
   "cell_type": "code",
   "execution_count": 12,
   "metadata": {},
   "outputs": [],
   "source": [
    "def lnprior(x):\n",
    "    x1, x2 = x\n",
    "    # if 2 < x1 < 1000 and 2 < x2 < 1000 and x2 < x1:\n",
    "    # if 2 < x1 < 1000 and 2 < x2 < 1000 and np.abs(x2) < np.abs(x1):\n",
    "    if 2 < x1 < 4000 and 2 < x2 < 4000:\n",
    "    # if 2 < x1 < 100 and 2 < x2 < 100:\n",
    "        return 0.0\n",
    "    return -np.inf"
   ]
  },
  {
   "cell_type": "code",
   "execution_count": 13,
   "metadata": {},
   "outputs": [],
   "source": [
    "def lnprob(x, ivar):\n",
    "    lp = lnprior(x)\n",
    "    if not np.isfinite(lp):\n",
    "        return -np.inf\n",
    "\n",
    "    var1, var2 = 1/ivar\n",
    "    dsig1 = np.sqrt(var1)\n",
    "    dsig2 = np.sqrt(var2)\n",
    "    dpi = dsig1/x[1] + dsig2*x[0]/(x[1]*x[1])\n",
    "    # pi experimentally measured \n",
    "    pi = 3.14159\n",
    "    # return -0.5 * np.sum(ivar * x ** 2)\n",
    "    return -0.5 * (x[0]/x[1] - pi)**2/dpi**2\n",
    "    # return -0.5 * (x[0]/x[1] - pi)**2"
   ]
  },
  {
   "cell_type": "code",
   "execution_count": 14,
   "metadata": {},
   "outputs": [],
   "source": [
    "ndim, nwalkers = 2, 100\n",
    "sig1 = 1 #2 #5\n",
    "sig2 = 1 #3 #5\n",
    "ivar = np.array([1./sig1, 1./sig2])\n",
    "\n",
    "# p0 = [np.random.rand(ndim) for i in range(nwalkers)]\n",
    "# p0 = [np.random.randint(2, 1000, ndim) for i in range(nwalkers)]\n",
    "p0 = [np.random.randint(2, 100, ndim) for i in range(nwalkers)]"
   ]
  },
  {
   "cell_type": "code",
   "execution_count": 15,
   "metadata": {},
   "outputs": [
    {
     "name": "stdout",
     "output_type": "stream",
     "text": [
      "[0.83050847 0.85964912 0.91071429 ... 3.18227848 3.18227848 3.16981132]\n",
      "[  49.   49.   51. ... 1257. 1257. 1680.] [ 59.  57.  56. ... 395. 395. 530.]\n"
     ]
    }
   ],
   "source": [
    "sampler = emcee.EnsembleSampler(nwalkers, ndim, lnprob, args=[ivar])\n",
    "sampler.run_mcmc(p0, 20000)\n",
    "# sampler.run_mcmc(p0, 50000)\n",
    "samples = sampler.chain.reshape((-1, ndim))\n",
    "print(samples[:,0]/samples[:,1])\n",
    "print(samples[:,0], samples[:,1])"
   ]
  },
  {
   "cell_type": "code",
   "execution_count": null,
   "metadata": {},
   "outputs": [],
   "source": []
  }
 ],
 "metadata": {
  "kernelspec": {
   "display_name": "Python 3",
   "language": "python",
   "name": "python3"
  },
  "language_info": {
   "codemirror_mode": {
    "name": "ipython",
    "version": 3
   },
   "file_extension": ".py",
   "mimetype": "text/x-python",
   "name": "python",
   "nbconvert_exporter": "python",
   "pygments_lexer": "ipython3",
   "version": "3.6.7"
  }
 },
 "nbformat": 4,
 "nbformat_minor": 2
}
